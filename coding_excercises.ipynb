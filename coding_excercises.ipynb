{
 "cells": [
  {
   "cell_type": "markdown",
   "id": "d797d156",
   "metadata": {},
   "source": [
    "Hello, World! The following code was created as my first attempt at programming in this course. It is meant to help me understand how to write and run code in GitHub Codespaces.\n"
   ]
  },
  {
   "cell_type": "code",
   "execution_count": 9,
   "id": "8aa7a4fb",
   "metadata": {},
   "outputs": [
    {
     "name": "stdout",
     "output_type": "stream",
     "text": [
      "Hello, World!\n"
     ]
    }
   ],
   "source": [
    "print(\"Hello, World!\")"
   ]
  },
  {
   "cell_type": "markdown",
   "id": "affd1857",
   "metadata": {},
   "source": [
    "Here is a demostration of a basic arithmetic operation."
   ]
  },
  {
   "cell_type": "code",
   "execution_count": 10,
   "id": "60648da4",
   "metadata": {},
   "outputs": [
    {
     "name": "stdout",
     "output_type": "stream",
     "text": [
      "the sum of 5 and 3 is 8\n"
     ]
    }
   ],
   "source": [
    "# This program calculates the sum of two numbers\n",
    "number1 = 5\n",
    "number2 = 3\n",
    "sum = number1 + number2\n",
    "print(\"the sum of\", number1, \"and\", number2, \"is\", sum)"
   ]
  },
  {
   "cell_type": "markdown",
   "id": "692051d4",
   "metadata": {},
   "source": [
    "Heres an example to demnstrate th concept of loops in python "
   ]
  },
  {
   "cell_type": "code",
   "execution_count": 11,
   "id": "6151b4cc",
   "metadata": {},
   "outputs": [
    {
     "name": "stdout",
     "output_type": "stream",
     "text": [
      "1\n",
      "2\n",
      "3\n",
      "4\n",
      "5\n"
     ]
    }
   ],
   "source": [
    "# this program prints numbers from 1 to 5 \n",
    "for i in range(1, 6):\n",
    "    print(i)"
   ]
  },
  {
   "cell_type": "markdown",
   "id": "9048c781",
   "metadata": {},
   "source": [
    "\"hello world\" program that uses a loop to print the message multiple times "
   ]
  },
  {
   "cell_type": "code",
   "execution_count": 6,
   "id": "3d107f0b",
   "metadata": {},
   "outputs": [
    {
     "name": "stdout",
     "output_type": "stream",
     "text": [
      "hello world\n",
      "hello world\n",
      "hello world\n",
      "hello world\n",
      "hello world\n"
     ]
    }
   ],
   "source": [
    "#this program prints hello world five times \n",
    "for i in range(5):\n",
    "    print(\"hello world\")\n"
   ]
  },
  {
   "cell_type": "markdown",
   "id": "c11d973a",
   "metadata": {},
   "source": [
    "\"Hello, World!\" and enhance it to introduce arrays"
   ]
  },
  {
   "cell_type": "code",
   "execution_count": 7,
   "id": "8a9f858b",
   "metadata": {},
   "outputs": [
    {
     "name": "stdout",
     "output_type": "stream",
     "text": [
      "Hello\n",
      "world\n",
      "Python\n",
      "is\n",
      "fun\n"
     ]
    }
   ],
   "source": [
    "# Step 1: Define an array (list) of words\n",
    "words = [\"Hello\", \"world\", \"Python\", \"is\", \"fun\"]\n",
    "\n",
    "# Step 2: Iterate through each word in the array\n",
    "for word in words:\n",
    "    # Step 3: Print each word one by one\n",
    "    print(word)\n"
   ]
  },
  {
   "cell_type": "markdown",
   "id": "4e2e6c5a",
   "metadata": {},
   "source": [
    "the concept of importing libraries"
   ]
  },
  {
   "cell_type": "code",
   "execution_count": 8,
   "id": "957d886e",
   "metadata": {},
   "outputs": [
    {
     "name": "stdout",
     "output_type": "stream",
     "text": [
      "Greetings, planet!\n"
     ]
    }
   ],
   "source": [
    "# Step 1: Import the random library\n",
    "import random\n",
    "\n",
    "# Step 2: Create a list of greeting messages\n",
    "greetings = [\"Hello, world!\", \"Hi there, Earth!\", \"Greetings, planet!\"]\n",
    "\n",
    "# Step 3: Use the random.choice() function to select a random greeting\n",
    "random_greeting = random.choice(greetings)\n",
    "\n",
    "# Step 4: Print the randomly selected greeting\n",
    "print(random_greeting)\n"
   ]
  }
 ],
 "metadata": {
  "kernelspec": {
   "display_name": "Python 3",
   "language": "python",
   "name": "python3"
  },
  "language_info": {
   "codemirror_mode": {
    "name": "ipython",
    "version": 3
   },
   "file_extension": ".py",
   "mimetype": "text/x-python",
   "name": "python",
   "nbconvert_exporter": "python",
   "pygments_lexer": "ipython3",
   "version": "3.12.1"
  }
 },
 "nbformat": 4,
 "nbformat_minor": 5
}

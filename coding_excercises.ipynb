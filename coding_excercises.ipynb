{
 "cells": [
  {
   "cell_type": "markdown",
   "id": "d797d156",
   "metadata": {},
   "source": [
    "\n",
    "<h5> This repository represents my personal attempt at completing the course workbook. It includes my notes, exercises, and reflections as I work through each section. My goal is to actively engage with the material, practice new skills, and document my progress along the way. By keeping everything organized here, I can track my learning journey and build a solid foundation in the key concepts covered throughout the course. </h5>"
   ]
  },
  {
   "cell_type": "markdown",
   "id": "90031a8b",
   "metadata": {},
   "source": [
    "Hello, World! The following code was created as my first attempt at programming in this course. It is meant to help me understand how to write and run code in GitHub Codespaces."
   ]
  },
  {
   "cell_type": "code",
   "execution_count": 30,
   "id": "8aa7a4fb",
   "metadata": {},
   "outputs": [
    {
     "name": "stdout",
     "output_type": "stream",
     "text": [
      "Hello, World!\n"
     ]
    }
   ],
   "source": [
    "print(\"Hello, World!\")"
   ]
  },
  {
   "cell_type": "markdown",
   "id": "affd1857",
   "metadata": {},
   "source": [
    "Here is a demostration of a basic arithmetic operation."
   ]
  },
  {
   "cell_type": "code",
   "execution_count": 31,
   "id": "60648da4",
   "metadata": {},
   "outputs": [
    {
     "name": "stdout",
     "output_type": "stream",
     "text": [
      "the sum of 5 and 3 is 8\n"
     ]
    }
   ],
   "source": [
    "# This program calculates the sum of two numbers\n",
    "number1 = 5\n",
    "number2 = 3\n",
    "sum = number1 + number2\n",
    "print(\"the sum of\", number1, \"and\", number2, \"is\", sum)"
   ]
  },
  {
   "cell_type": "markdown",
   "id": "692051d4",
   "metadata": {},
   "source": [
    "Heres an example to demonstrate the concept of loops in python \n",
    "Prompt: Could you suggest a modification of the Python code for “Hello, world!” to demonstrate the concept of lists to a complete beginner in programming? Please explain the code step-by-step highlighting any key aspects."
   ]
  },
  {
   "cell_type": "code",
   "execution_count": 32,
   "id": "6151b4cc",
   "metadata": {},
   "outputs": [
    {
     "name": "stdout",
     "output_type": "stream",
     "text": [
      "1\n",
      "2\n",
      "3\n",
      "4\n",
      "5\n"
     ]
    }
   ],
   "source": [
    "# this program prints numbers from 1 to 5 \n",
    "for i in range(1, 6):\n",
    "    print(i)"
   ]
  },
  {
   "cell_type": "markdown",
   "id": "9048c781",
   "metadata": {},
   "source": [
    "here is an example of a \"hello world\" program that uses a loop to print the message multiple times \n",
    "Prompt: Could you suggest a modification of the Python code for “Hello, world!” to demonstrate the concept of loops to a complete beginner in programming? Please explain the code step-by-step highlighting any key aspects."
   ]
  },
  {
   "cell_type": "code",
   "execution_count": 33,
   "id": "3d107f0b",
   "metadata": {},
   "outputs": [
    {
     "name": "stdout",
     "output_type": "stream",
     "text": [
      "hello world\n",
      "hello world\n",
      "hello world\n",
      "hello world\n",
      "hello world\n"
     ]
    }
   ],
   "source": [
    "#this program prints hello world five times \n",
    "for i in range(5):\n",
    "    print(\"hello world\")\n"
   ]
  },
  {
   "cell_type": "markdown",
   "id": "c11d973a",
   "metadata": {},
   "source": [
    "here is an example of a \"Hello, World!\" program that has been enhanced to introduce arrays\n",
    "Prompt: Could you suggest a modification of the Python code for “Hello, world!” to demonstrate the concept of arrays to a complete beginner in programming? Please explain the code step-by-step highlighting any key aspects."
   ]
  },
  {
   "cell_type": "code",
   "execution_count": 34,
   "id": "8a9f858b",
   "metadata": {},
   "outputs": [
    {
     "name": "stdout",
     "output_type": "stream",
     "text": [
      "Hello\n",
      "world\n",
      "Python\n",
      "is\n",
      "fun\n"
     ]
    }
   ],
   "source": [
    "# Step 1: Define an array (list) of words\n",
    "words = [\"Hello\", \"world\", \"Python\", \"is\", \"fun\"]\n",
    "\n",
    "# Step 2: Iterate through each word in the array\n",
    "for word in words:\n",
    "    # Step 3: Print each word one by one\n",
    "    print(word)\n"
   ]
  },
  {
   "cell_type": "markdown",
   "id": "4e2e6c5a",
   "metadata": {},
   "source": [
    "the concept of importing libraries"
   ]
  },
  {
   "cell_type": "code",
   "execution_count": 35,
   "id": "957d886e",
   "metadata": {},
   "outputs": [
    {
     "name": "stdout",
     "output_type": "stream",
     "text": [
      "Hello, world!\n"
     ]
    }
   ],
   "source": [
    "# Step 1: Import the random library\n",
    "import random\n",
    "\n",
    "# Step 2: Create a list of greeting messages\n",
    "greetings = [\"Hello, world!\", \"Hi there, Earth!\", \"Greetings, planet!\"]\n",
    "\n",
    "# Step 3: Use the random.choice() function to select a random greeting\n",
    "random_greeting = random.choice(greetings)\n",
    "\n",
    "# Step 4: Print the randomly selected greeting\n",
    "print(random_greeting)\n"
   ]
  },
  {
   "cell_type": "markdown",
   "id": "34926733",
   "metadata": {},
   "source": [
    "Prompt: Could you suggest a modification of the Python code for “Hello, world!” to demonstrate the concepts of if, elif, and else statements to a complete beginner in programming? Please explain the code step-by-step highlighting any key aspects."
   ]
  },
  {
   "cell_type": "code",
   "execution_count": 63,
   "id": "a5eef510",
   "metadata": {},
   "outputs": [
    {
     "name": "stdout",
     "output_type": "stream",
     "text": [
      "Hi there, world!\n"
     ]
    }
   ],
   "source": [
    "# Step 1: Define a variable with a value\n",
    "# This variable will be used to demonstrate the if, elif, and else statements\n",
    "greeting_type = 2\n",
    "\n",
    "# Step 2: Use if, elif, and else statements to print different messages based on the value of the variable\n",
    "# The if statement checks if the condition is true, and if it is, it executes the code block under it\n",
    "if greeting_type == 1:\n",
    "    print(\"Hello, world!\")\n",
    "# The elif statement checks another condition if the previous if condition was false\n",
    "elif greeting_type == 2:\n",
    "    print(\"Hi there, world!\")\n",
    "# The else statement executes if none of the previous conditions were true\n",
    "else:\n",
    "    print(\"Greetings, world!\")\n"
   ]
  },
  {
   "cell_type": "code",
   "execution_count": 67,
   "id": "7bf70672",
   "metadata": {},
   "outputs": [
    {
     "name": "stdout",
     "output_type": "stream",
     "text": [
      "Hi there, world!\n"
     ]
    }
   ],
   "source": [
    "\n",
    "greeting_type = 2\n",
    "if greeting_type == 1:\n",
    "    print(\"Hello, world!\")\n",
    "elif greeting_type == 2:\n",
    "    print(\"Hi there, world!\")\n",
    "else:\n",
    "    print(\"Greetings, world!\")"
   ]
  },
  {
   "cell_type": "markdown",
   "id": "92b7d3dc",
   "metadata": {},
   "source": [
    "Prompt: Could you suggest modifying the Python code for “Hello, world!” to demonstrate the concept of classes, objects and methods to a\n",
    "complete beginner in programming? Please explain the code step-by-step highlighting any key aspects."
   ]
  },
  {
   "cell_type": "code",
   "execution_count": 36,
   "id": "44037342",
   "metadata": {},
   "outputs": [
    {
     "name": "stdout",
     "output_type": "stream",
     "text": [
      "Hello, world!\n"
     ]
    }
   ],
   "source": [
    "# Step 1: Define a class named 'Greeter'\n",
    "# A class is a blueprint for creating objects. It can contain methods (functions) and attributes (variables).\n",
    "class Greeter:\n",
    "    \n",
    "    # Step 2: Define a method named 'say_hello' inside the class\n",
    "    # A method is a function that belongs to an object. It is defined using the 'def' keyword.\n",
    "    def say_hello(self):\n",
    "        # Step 3: Print 'Hello, world!' when the method is called\n",
    "        print(\"Hello, world!\")\n",
    "\n",
    "# Step 4: Create an object of the class 'Greeter'\n",
    "# An object is an instance of a class. It is created by calling the class name followed by parentheses.\n",
    "greeter_object = Greeter()\n",
    "\n",
    "# Step 5: Call the 'say_hello' method using the object\n",
    "# The method is called using the dot notation: object_name.method_name()\n",
    "greeter_object.say_hello()\n"
   ]
  },
  {
   "cell_type": "code",
   "execution_count": 37,
   "id": "645f1651",
   "metadata": {},
   "outputs": [],
   "source": [
    "def say_hello(self):\n",
    "    print(\"Hello, world!\")\n"
   ]
  },
  {
   "cell_type": "code",
   "execution_count": 38,
   "id": "340001af",
   "metadata": {},
   "outputs": [],
   "source": [
    "greeter_object = Greeter()\n"
   ]
  },
  {
   "cell_type": "code",
   "execution_count": 39,
   "id": "7de86553",
   "metadata": {},
   "outputs": [
    {
     "name": "stdout",
     "output_type": "stream",
     "text": [
      "Hello, world!\n"
     ]
    }
   ],
   "source": [
    "greeter_object.say_hello()\n"
   ]
  },
  {
   "cell_type": "markdown",
   "id": "5c4fc480",
   "metadata": {},
   "source": [
    "Prompt: Could you suggest three different Python implementations of the Hello World program to emphasise, respectively, principles of simplicity, security, and inclusion? Please explain step-by-step highlighting any key aspects."
   ]
  },
  {
   "cell_type": "markdown",
   "id": "426e9aac",
   "metadata": {},
   "source": [
    "Here is an example of simplicity "
   ]
  },
  {
   "cell_type": "code",
   "execution_count": 40,
   "id": "80aecbbc",
   "metadata": {},
   "outputs": [
    {
     "name": "stdout",
     "output_type": "stream",
     "text": [
      "Hello, World!\n"
     ]
    }
   ],
   "source": [
    "# Simple \"Hello, World!\" program\n",
    "print(\"Hello, World!\")\n"
   ]
  },
  {
   "cell_type": "markdown",
   "id": "074849f4",
   "metadata": {},
   "source": [
    "Here is an example of security"
   ]
  },
  {
   "cell_type": "code",
   "execution_count": 41,
   "id": "87164a40",
   "metadata": {},
   "outputs": [
    {
     "name": "stdout",
     "output_type": "stream",
     "text": [
      "&lt;script&gt;alert(&#x27;Hello, World!&#x27;);&lt;/script&gt;\n"
     ]
    }
   ],
   "source": [
    "# Secure \"Hello, World!\" program\n",
    "import html  # Step 1: Import library for sanitizing input\n",
    "\n",
    "# Step 2: Define user-provided message (simulated here)\n",
    "user_message = \"<script>alert('Hello, World!');</script>\"\n",
    "\n",
    "# Step 3: Sanitize the message to prevent injection attacks\n",
    "safe_message = html.escape(user_message)\n",
    "\n",
    "# Step 4: Print the sanitized message\n",
    "print(safe_message)\n"
   ]
  },
  {
   "cell_type": "markdown",
   "id": "faf99d5e",
   "metadata": {},
   "source": [
    "Here is an example of inclusion"
   ]
  },
  {
   "cell_type": "code",
   "execution_count": 42,
   "id": "b181b7eb",
   "metadata": {},
   "outputs": [
    {
     "name": "stdout",
     "output_type": "stream",
     "text": [
      "Hello, World!\n",
      "-------------\n",
      "こんにちは、世界！\n",
      "---------\n",
      "¡Hola, Mundo!\n",
      "-------------\n",
      "مرحبا بالعالم\n",
      "-------------\n"
     ]
    }
   ],
   "source": [
    "# Inclusive \"Hello, World!\" program\n",
    "greetings = [\"Hello, World!\", \"こんにちは、世界！\", \"¡Hola, Mundo!\", \"مرحبا بالعالم\"]  # Step 1: Multilingual greetings\n",
    "\n",
    "# Step 2: Iterate and print each greeting with a clear visual separator\n",
    "for greeting in greetings:\n",
    "    print(greeting)\n",
    "    print(\"-\" * len(greeting))  # Adding a separator for readability\n"
   ]
  },
  {
   "cell_type": "markdown",
   "id": "3450a577",
   "metadata": {},
   "source": [
    "<h4> Basic Python Syntax </h4>"
   ]
  },
  {
   "cell_type": "markdown",
   "id": "cd1eef6c",
   "metadata": {},
   "source": [
    "prompt: could you use the examples you have provided above to explain complete beginner programing? Please explain step by step highlighting any key aspects. please include well known references to python styling guides "
   ]
  },
  {
   "cell_type": "code",
   "execution_count": 43,
   "id": "4c0f74f8",
   "metadata": {},
   "outputs": [
    {
     "name": "stdout",
     "output_type": "stream",
     "text": [
      "Hello, World!\n"
     ]
    }
   ],
   "source": [
    "print(\"Hello, World!\")\n"
   ]
  },
  {
   "cell_type": "code",
   "execution_count": 44,
   "id": "bc22de13",
   "metadata": {},
   "outputs": [],
   "source": [
    "name = \"Alice\"  # String\n",
    "age = 25        # Integer\n",
    "height = 5.6    # Float\n",
    "is_student = True  # Boolean\n"
   ]
  },
  {
   "cell_type": "code",
   "execution_count": 45,
   "id": "4fc9858a",
   "metadata": {},
   "outputs": [
    {
     "name": "stdout",
     "output_type": "stream",
     "text": [
      "Hello, Alice!\n"
     ]
    }
   ],
   "source": [
    "# Basic operations\n",
    "sum = 5 + 3\n",
    "difference = 10 - 2\n",
    "product = 4 * 2\n",
    "quotient = 8 / 2\n",
    "\n",
    "# Defining a function\n",
    "def greet(name):\n",
    "    return f\"Hello, {name}!\"\n",
    "\n",
    "print(greet(\"Alice\"))\n"
   ]
  },
  {
   "cell_type": "code",
   "execution_count": 46,
   "id": "a6be643d",
   "metadata": {},
   "outputs": [
    {
     "name": "stdout",
     "output_type": "stream",
     "text": [
      "You are an adult.\n",
      "0\n",
      "1\n",
      "2\n",
      "3\n",
      "4\n",
      "Age is 25\n",
      "Age is 26\n",
      "Age is 27\n",
      "Age is 28\n",
      "Age is 29\n"
     ]
    }
   ],
   "source": [
    "# Conditional statements\n",
    "if age < 18:\n",
    "    print(\"You are a minor.\")\n",
    "else:\n",
    "    print(\"You are an adult.\")\n",
    "\n",
    "# Loops\n",
    "for i in range(5):\n",
    "    print(i)\n",
    "\n",
    "while age < 30:\n",
    "    print(f\"Age is {age}\")\n",
    "    age += 1\n"
   ]
  },
  {
   "cell_type": "code",
   "execution_count": 47,
   "id": "ce1165e5",
   "metadata": {},
   "outputs": [
    {
     "name": "stdout",
     "output_type": "stream",
     "text": [
      "apple\n",
      "Alice\n"
     ]
    }
   ],
   "source": [
    "# List\n",
    "fruits = [\"apple\", \"banana\", \"cherry\"]\n",
    "print(fruits[0])  # Accessing elements\n",
    "\n",
    "# Dictionary\n",
    "person = {\"name\": \"Alice\", \"age\": 25}\n",
    "print(person[\"name\"])  # Accessing values\n"
   ]
  },
  {
   "cell_type": "markdown",
   "id": "fd702754",
   "metadata": {},
   "source": [
    "<h4> Youtube video on IPython display </h4>\n"
   ]
  },
  {
   "cell_type": "code",
   "execution_count": null,
   "id": "e87fb01b",
   "metadata": {},
   "outputs": [
    {
     "data": {
      "image/jpeg": "[encoded data removed]",
      "text/html": [
       "\n",
       "        <iframe\n",
       "            width=\"900\"\n",
       "            height=\"450\"\n",
       "            src=\"https://www.youtube.com/embed/cffU0jSYJd8\"\n",
       "            frameborder=\"0\"\n",
       "            allowfullscreen\n",
       "            \n",
       "        ></iframe>\n",
       "        "
      ],
      "text/plain": [
       "<IPython.lib.display.YouTubeVideo at 0x711061df8fe0>"
      ]
     },
     "execution_count": 1,
     "metadata": {},
     "output_type": "execute_result"
    }
   ],
   "source": [
    "from IPython.display import YouTubeVideo\n",
    "YouTubeVideo('cffU0jSYJd8' , width=800, height=450)"
   ]
  },
  {
   "cell_type": "markdown",
   "id": "de99507b",
   "metadata": {},
   "source": [
    "<h4> Images and Audio on IPython.display </h4>"
   ]
  },
  {
   "cell_type": "code",
   "execution_count": 1,
   "id": "fe139acd",
   "metadata": {},
   "outputs": [
    {
     "name": "stdout",
     "output_type": "stream",
     "text": [
      "/workspaces/ai-for-the-arts\n",
      "['.git', 'my-creative-project.ipynb', 'coding_excercises.ipynb', 'README.md']\n"
     ]
    },
    {
     "ename": "FileNotFoundError",
     "evalue": "[Errno 2] No such file or directory: 'picture1.jpg'",
     "output_type": "error",
     "traceback": [
      "\u001b[31m---------------------------------------------------------------------------\u001b[39m",
      "\u001b[31mFileNotFoundError\u001b[39m                         Traceback (most recent call last)",
      "\u001b[36mCell\u001b[39m\u001b[36m \u001b[39m\u001b[32mIn[1]\u001b[39m\u001b[32m, line 6\u001b[39m\n\u001b[32m      3\u001b[39m \u001b[38;5;28mprint\u001b[39m(os.getcwd())\n\u001b[32m      4\u001b[39m \u001b[38;5;28mprint\u001b[39m(os.listdir())\n\u001b[32m----> \u001b[39m\u001b[32m6\u001b[39m display(\u001b[43mImage\u001b[49m\u001b[43m(\u001b[49m\u001b[43mfilename\u001b[49m\u001b[43m=\u001b[49m\u001b[33;43m'\u001b[39;49m\u001b[33;43mpicture1.jpg\u001b[39;49m\u001b[33;43m'\u001b[39;49m\u001b[43m,\u001b[49m\u001b[43m \u001b[49m\u001b[43mwidth\u001b[49m\u001b[43m=\u001b[49m\u001b[32;43m600\u001b[39;49m\u001b[43m)\u001b[49m)\n",
      "\u001b[36mFile \u001b[39m\u001b[32m~/.local/lib/python3.12/site-packages/IPython/core/display.py:1025\u001b[39m, in \u001b[36mImage.__init__\u001b[39m\u001b[34m(self, data, url, filename, format, embed, width, height, retina, unconfined, metadata, alt)\u001b[39m\n\u001b[32m   1023\u001b[39m \u001b[38;5;28mself\u001b[39m.unconfined = unconfined\n\u001b[32m   1024\u001b[39m \u001b[38;5;28mself\u001b[39m.alt = alt\n\u001b[32m-> \u001b[39m\u001b[32m1025\u001b[39m \u001b[38;5;28;43msuper\u001b[39;49m\u001b[43m(\u001b[49m\u001b[43mImage\u001b[49m\u001b[43m,\u001b[49m\u001b[43m \u001b[49m\u001b[38;5;28;43mself\u001b[39;49m\u001b[43m)\u001b[49m\u001b[43m.\u001b[49m\u001b[34;43m__init__\u001b[39;49m\u001b[43m(\u001b[49m\u001b[43mdata\u001b[49m\u001b[43m=\u001b[49m\u001b[43mdata\u001b[49m\u001b[43m,\u001b[49m\u001b[43m \u001b[49m\u001b[43murl\u001b[49m\u001b[43m=\u001b[49m\u001b[43murl\u001b[49m\u001b[43m,\u001b[49m\u001b[43m \u001b[49m\u001b[43mfilename\u001b[49m\u001b[43m=\u001b[49m\u001b[43mfilename\u001b[49m\u001b[43m,\u001b[49m\n\u001b[32m   1026\u001b[39m \u001b[43m        \u001b[49m\u001b[43mmetadata\u001b[49m\u001b[43m=\u001b[49m\u001b[43mmetadata\u001b[49m\u001b[43m)\u001b[49m\n\u001b[32m   1028\u001b[39m \u001b[38;5;28;01mif\u001b[39;00m \u001b[38;5;28mself\u001b[39m.width \u001b[38;5;129;01mis\u001b[39;00m \u001b[38;5;28;01mNone\u001b[39;00m \u001b[38;5;129;01mand\u001b[39;00m \u001b[38;5;28mself\u001b[39m.metadata.get(\u001b[33m'\u001b[39m\u001b[33mwidth\u001b[39m\u001b[33m'\u001b[39m, {}):\n\u001b[32m   1029\u001b[39m     \u001b[38;5;28mself\u001b[39m.width = metadata[\u001b[33m'\u001b[39m\u001b[33mwidth\u001b[39m\u001b[33m'\u001b[39m]\n",
      "\u001b[36mFile \u001b[39m\u001b[32m~/.local/lib/python3.12/site-packages/IPython/core/display.py:343\u001b[39m, in \u001b[36mDisplayObject.__init__\u001b[39m\u001b[34m(self, data, url, filename, metadata)\u001b[39m\n\u001b[32m    340\u001b[39m \u001b[38;5;28;01melif\u001b[39;00m \u001b[38;5;28mself\u001b[39m.metadata \u001b[38;5;129;01mis\u001b[39;00m \u001b[38;5;28;01mNone\u001b[39;00m:\n\u001b[32m    341\u001b[39m     \u001b[38;5;28mself\u001b[39m.metadata = {}\n\u001b[32m--> \u001b[39m\u001b[32m343\u001b[39m \u001b[38;5;28;43mself\u001b[39;49m\u001b[43m.\u001b[49m\u001b[43mreload\u001b[49m\u001b[43m(\u001b[49m\u001b[43m)\u001b[49m\n\u001b[32m    344\u001b[39m \u001b[38;5;28mself\u001b[39m._check_data()\n",
      "\u001b[36mFile \u001b[39m\u001b[32m~/.local/lib/python3.12/site-packages/IPython/core/display.py:1060\u001b[39m, in \u001b[36mImage.reload\u001b[39m\u001b[34m(self)\u001b[39m\n\u001b[32m   1058\u001b[39m \u001b[38;5;250m\u001b[39m\u001b[33;03m\"\"\"Reload the raw data from file or URL.\"\"\"\u001b[39;00m\n\u001b[32m   1059\u001b[39m \u001b[38;5;28;01mif\u001b[39;00m \u001b[38;5;28mself\u001b[39m.embed:\n\u001b[32m-> \u001b[39m\u001b[32m1060\u001b[39m     \u001b[38;5;28;43msuper\u001b[39;49m\u001b[43m(\u001b[49m\u001b[43mImage\u001b[49m\u001b[43m,\u001b[49m\u001b[38;5;28;43mself\u001b[39;49m\u001b[43m)\u001b[49m\u001b[43m.\u001b[49m\u001b[43mreload\u001b[49m\u001b[43m(\u001b[49m\u001b[43m)\u001b[49m\n\u001b[32m   1061\u001b[39m     \u001b[38;5;28;01mif\u001b[39;00m \u001b[38;5;28mself\u001b[39m.retina:\n\u001b[32m   1062\u001b[39m         \u001b[38;5;28mself\u001b[39m._retina_shape()\n",
      "\u001b[36mFile \u001b[39m\u001b[32m~/.local/lib/python3.12/site-packages/IPython/core/display.py:369\u001b[39m, in \u001b[36mDisplayObject.reload\u001b[39m\u001b[34m(self)\u001b[39m\n\u001b[32m    367\u001b[39m \u001b[38;5;28;01mif\u001b[39;00m \u001b[38;5;28mself\u001b[39m.filename \u001b[38;5;129;01mis\u001b[39;00m \u001b[38;5;129;01mnot\u001b[39;00m \u001b[38;5;28;01mNone\u001b[39;00m:\n\u001b[32m    368\u001b[39m     encoding = \u001b[38;5;28;01mNone\u001b[39;00m \u001b[38;5;28;01mif\u001b[39;00m \u001b[33m\"\u001b[39m\u001b[33mb\u001b[39m\u001b[33m\"\u001b[39m \u001b[38;5;129;01min\u001b[39;00m \u001b[38;5;28mself\u001b[39m._read_flags \u001b[38;5;28;01melse\u001b[39;00m \u001b[33m\"\u001b[39m\u001b[33mutf-8\u001b[39m\u001b[33m\"\u001b[39m\n\u001b[32m--> \u001b[39m\u001b[32m369\u001b[39m     \u001b[38;5;28;01mwith\u001b[39;00m \u001b[38;5;28;43mopen\u001b[39;49m\u001b[43m(\u001b[49m\u001b[38;5;28;43mself\u001b[39;49m\u001b[43m.\u001b[49m\u001b[43mfilename\u001b[49m\u001b[43m,\u001b[49m\u001b[43m \u001b[49m\u001b[38;5;28;43mself\u001b[39;49m\u001b[43m.\u001b[49m\u001b[43m_read_flags\u001b[49m\u001b[43m,\u001b[49m\u001b[43m \u001b[49m\u001b[43mencoding\u001b[49m\u001b[43m=\u001b[49m\u001b[43mencoding\u001b[49m\u001b[43m)\u001b[49m \u001b[38;5;28;01mas\u001b[39;00m f:\n\u001b[32m    370\u001b[39m         \u001b[38;5;28mself\u001b[39m.data = f.read()\n\u001b[32m    371\u001b[39m \u001b[38;5;28;01melif\u001b[39;00m \u001b[38;5;28mself\u001b[39m.url \u001b[38;5;129;01mis\u001b[39;00m \u001b[38;5;129;01mnot\u001b[39;00m \u001b[38;5;28;01mNone\u001b[39;00m:\n\u001b[32m    372\u001b[39m     \u001b[38;5;66;03m# Deferred import\u001b[39;00m\n",
      "\u001b[31mFileNotFoundError\u001b[39m: [Errno 2] No such file or directory: 'picture1.jpg'"
     ]
    }
   ],
   "source": [
    "from IPython.display import Image, display\n",
    "import os\n",
    "print(os.getcwd())\n",
    "print(os.listdir())\n",
    "\n",
    "display(Image(filename='picture1.jpg', width=600))"
   ]
  },
  {
   "cell_type": "markdown",
   "id": "66a0123b",
   "metadata": {},
   "source": [
    "<h4> Audio </h4>"
   ]
  },
  {
   "cell_type": "code",
   "execution_count": null,
   "id": "f501e639",
   "metadata": {},
   "outputs": [
    {
     "ename": "FileNotFoundError",
     "evalue": "[Errno 2] No such file or directory: 'audio01.mid'",
     "output_type": "error",
     "traceback": [
      "\u001b[31m---------------------------------------------------------------------------\u001b[39m",
      "\u001b[31mFileNotFoundError\u001b[39m                         Traceback (most recent call last)",
      "\u001b[36mCell\u001b[39m\u001b[36m \u001b[39m\u001b[32mIn[28]\u001b[39m\u001b[32m, line 2\u001b[39m\n\u001b[32m      1\u001b[39m \u001b[38;5;28;01mfrom\u001b[39;00m\u001b[38;5;250m \u001b[39m\u001b[34;01mIPython\u001b[39;00m\u001b[34;01m.\u001b[39;00m\u001b[34;01mdisplay\u001b[39;00m\u001b[38;5;250m \u001b[39m\u001b[38;5;28;01mimport\u001b[39;00m Audio\n\u001b[32m----> \u001b[39m\u001b[32m2\u001b[39m \u001b[43mAudio\u001b[49m\u001b[43m(\u001b[49m\u001b[43mfilename\u001b[49m\u001b[43m=\u001b[49m\u001b[33;43m'\u001b[39;49m\u001b[33;43maudio01.mid\u001b[39;49m\u001b[33;43m'\u001b[39;49m\u001b[43m)\u001b[49m\n",
      "\u001b[36mFile \u001b[39m\u001b[32m~/.local/lib/python3.12/site-packages/IPython/lib/display.py:125\u001b[39m, in \u001b[36mAudio.__init__\u001b[39m\u001b[34m(self, data, filename, url, embed, rate, autoplay, normalize, element_id)\u001b[39m\n\u001b[32m    123\u001b[39m \u001b[38;5;28mself\u001b[39m.autoplay = autoplay\n\u001b[32m    124\u001b[39m \u001b[38;5;28mself\u001b[39m.element_id = element_id\n\u001b[32m--> \u001b[39m\u001b[32m125\u001b[39m \u001b[38;5;28;43msuper\u001b[39;49m\u001b[43m(\u001b[49m\u001b[43mAudio\u001b[49m\u001b[43m,\u001b[49m\u001b[43m \u001b[49m\u001b[38;5;28;43mself\u001b[39;49m\u001b[43m)\u001b[49m\u001b[43m.\u001b[49m\u001b[34;43m__init__\u001b[39;49m\u001b[43m(\u001b[49m\u001b[43mdata\u001b[49m\u001b[43m=\u001b[49m\u001b[43mdata\u001b[49m\u001b[43m,\u001b[49m\u001b[43m \u001b[49m\u001b[43murl\u001b[49m\u001b[43m=\u001b[49m\u001b[43murl\u001b[49m\u001b[43m,\u001b[49m\u001b[43m \u001b[49m\u001b[43mfilename\u001b[49m\u001b[43m=\u001b[49m\u001b[43mfilename\u001b[49m\u001b[43m)\u001b[49m\n\u001b[32m    127\u001b[39m \u001b[38;5;28;01mif\u001b[39;00m \u001b[38;5;28mself\u001b[39m.data \u001b[38;5;129;01mis\u001b[39;00m \u001b[38;5;129;01mnot\u001b[39;00m \u001b[38;5;28;01mNone\u001b[39;00m \u001b[38;5;129;01mand\u001b[39;00m \u001b[38;5;129;01mnot\u001b[39;00m \u001b[38;5;28misinstance\u001b[39m(\u001b[38;5;28mself\u001b[39m.data, \u001b[38;5;28mbytes\u001b[39m):\n\u001b[32m    128\u001b[39m     \u001b[38;5;28;01mif\u001b[39;00m rate \u001b[38;5;129;01mis\u001b[39;00m \u001b[38;5;28;01mNone\u001b[39;00m:\n",
      "\u001b[36mFile \u001b[39m\u001b[32m~/.local/lib/python3.12/site-packages/IPython/core/display.py:343\u001b[39m, in \u001b[36mDisplayObject.__init__\u001b[39m\u001b[34m(self, data, url, filename, metadata)\u001b[39m\n\u001b[32m    340\u001b[39m \u001b[38;5;28;01melif\u001b[39;00m \u001b[38;5;28mself\u001b[39m.metadata \u001b[38;5;129;01mis\u001b[39;00m \u001b[38;5;28;01mNone\u001b[39;00m:\n\u001b[32m    341\u001b[39m     \u001b[38;5;28mself\u001b[39m.metadata = {}\n\u001b[32m--> \u001b[39m\u001b[32m343\u001b[39m \u001b[38;5;28;43mself\u001b[39;49m\u001b[43m.\u001b[49m\u001b[43mreload\u001b[49m\u001b[43m(\u001b[49m\u001b[43m)\u001b[49m\n\u001b[32m    344\u001b[39m \u001b[38;5;28mself\u001b[39m._check_data()\n",
      "\u001b[36mFile \u001b[39m\u001b[32m~/.local/lib/python3.12/site-packages/IPython/lib/display.py:136\u001b[39m, in \u001b[36mAudio.reload\u001b[39m\u001b[34m(self)\u001b[39m\n\u001b[32m    134\u001b[39m \u001b[38;5;28;01mimport\u001b[39;00m\u001b[38;5;250m \u001b[39m\u001b[34;01mmimetypes\u001b[39;00m\n\u001b[32m    135\u001b[39m \u001b[38;5;28;01mif\u001b[39;00m \u001b[38;5;28mself\u001b[39m.embed:\n\u001b[32m--> \u001b[39m\u001b[32m136\u001b[39m     \u001b[38;5;28;43msuper\u001b[39;49m\u001b[43m(\u001b[49m\u001b[43mAudio\u001b[49m\u001b[43m,\u001b[49m\u001b[43m \u001b[49m\u001b[38;5;28;43mself\u001b[39;49m\u001b[43m)\u001b[49m\u001b[43m.\u001b[49m\u001b[43mreload\u001b[49m\u001b[43m(\u001b[49m\u001b[43m)\u001b[49m\n\u001b[32m    138\u001b[39m \u001b[38;5;28;01mif\u001b[39;00m \u001b[38;5;28mself\u001b[39m.filename \u001b[38;5;129;01mis\u001b[39;00m \u001b[38;5;129;01mnot\u001b[39;00m \u001b[38;5;28;01mNone\u001b[39;00m:\n\u001b[32m    139\u001b[39m     \u001b[38;5;28mself\u001b[39m.mimetype = mimetypes.guess_type(\u001b[38;5;28mself\u001b[39m.filename)[\u001b[32m0\u001b[39m]\n",
      "\u001b[36mFile \u001b[39m\u001b[32m~/.local/lib/python3.12/site-packages/IPython/core/display.py:369\u001b[39m, in \u001b[36mDisplayObject.reload\u001b[39m\u001b[34m(self)\u001b[39m\n\u001b[32m    367\u001b[39m \u001b[38;5;28;01mif\u001b[39;00m \u001b[38;5;28mself\u001b[39m.filename \u001b[38;5;129;01mis\u001b[39;00m \u001b[38;5;129;01mnot\u001b[39;00m \u001b[38;5;28;01mNone\u001b[39;00m:\n\u001b[32m    368\u001b[39m     encoding = \u001b[38;5;28;01mNone\u001b[39;00m \u001b[38;5;28;01mif\u001b[39;00m \u001b[33m\"\u001b[39m\u001b[33mb\u001b[39m\u001b[33m\"\u001b[39m \u001b[38;5;129;01min\u001b[39;00m \u001b[38;5;28mself\u001b[39m._read_flags \u001b[38;5;28;01melse\u001b[39;00m \u001b[33m\"\u001b[39m\u001b[33mutf-8\u001b[39m\u001b[33m\"\u001b[39m\n\u001b[32m--> \u001b[39m\u001b[32m369\u001b[39m     \u001b[38;5;28;01mwith\u001b[39;00m \u001b[38;5;28;43mopen\u001b[39;49m\u001b[43m(\u001b[49m\u001b[38;5;28;43mself\u001b[39;49m\u001b[43m.\u001b[49m\u001b[43mfilename\u001b[49m\u001b[43m,\u001b[49m\u001b[43m \u001b[49m\u001b[38;5;28;43mself\u001b[39;49m\u001b[43m.\u001b[49m\u001b[43m_read_flags\u001b[49m\u001b[43m,\u001b[49m\u001b[43m \u001b[49m\u001b[43mencoding\u001b[49m\u001b[43m=\u001b[49m\u001b[43mencoding\u001b[49m\u001b[43m)\u001b[49m \u001b[38;5;28;01mas\u001b[39;00m f:\n\u001b[32m    370\u001b[39m         \u001b[38;5;28mself\u001b[39m.data = f.read()\n\u001b[32m    371\u001b[39m \u001b[38;5;28;01melif\u001b[39;00m \u001b[38;5;28mself\u001b[39m.url \u001b[38;5;129;01mis\u001b[39;00m \u001b[38;5;129;01mnot\u001b[39;00m \u001b[38;5;28;01mNone\u001b[39;00m:\n\u001b[32m    372\u001b[39m     \u001b[38;5;66;03m# Deferred import\u001b[39;00m\n",
      "\u001b[31mFileNotFoundError\u001b[39m: [Errno 2] No such file or directory: 'audio01.mid'"
     ]
    }
   ],
   "source": [
    "from IPython.display import Audio\n",
    "Audio(filename='audio01.mid')"
   ]
  },
  {
   "cell_type": "markdown",
   "id": "31ae1cd4",
   "metadata": {},
   "source": []
  },
  {
   "cell_type": "code",
   "execution_count": null,
   "id": "06c0e449",
   "metadata": {},
   "outputs": [
    {
     "ename": "FileNotFoundError",
     "evalue": "[Errno 2] No such file or directory: 'audio02.ogg'",
     "output_type": "error",
     "traceback": [
      "\u001b[31m---------------------------------------------------------------------------\u001b[39m",
      "\u001b[31mFileNotFoundError\u001b[39m                         Traceback (most recent call last)",
      "\u001b[36mCell\u001b[39m\u001b[36m \u001b[39m\u001b[32mIn[29]\u001b[39m\u001b[32m, line 2\u001b[39m\n\u001b[32m      1\u001b[39m \u001b[38;5;28;01mfrom\u001b[39;00m\u001b[38;5;250m \u001b[39m\u001b[34;01mIPython\u001b[39;00m\u001b[34;01m.\u001b[39;00m\u001b[34;01mdisplay\u001b[39;00m\u001b[38;5;250m \u001b[39m\u001b[38;5;28;01mimport\u001b[39;00m Audio\n\u001b[32m----> \u001b[39m\u001b[32m2\u001b[39m \u001b[43mAudio\u001b[49m\u001b[43m(\u001b[49m\u001b[43mfilename\u001b[49m\u001b[43m=\u001b[49m\u001b[33;43m'\u001b[39;49m\u001b[33;43maudio02.ogg\u001b[39;49m\u001b[33;43m'\u001b[39;49m\u001b[43m)\u001b[49m\n",
      "\u001b[36mFile \u001b[39m\u001b[32m~/.local/lib/python3.12/site-packages/IPython/lib/display.py:125\u001b[39m, in \u001b[36mAudio.__init__\u001b[39m\u001b[34m(self, data, filename, url, embed, rate, autoplay, normalize, element_id)\u001b[39m\n\u001b[32m    123\u001b[39m \u001b[38;5;28mself\u001b[39m.autoplay = autoplay\n\u001b[32m    124\u001b[39m \u001b[38;5;28mself\u001b[39m.element_id = element_id\n\u001b[32m--> \u001b[39m\u001b[32m125\u001b[39m \u001b[38;5;28;43msuper\u001b[39;49m\u001b[43m(\u001b[49m\u001b[43mAudio\u001b[49m\u001b[43m,\u001b[49m\u001b[43m \u001b[49m\u001b[38;5;28;43mself\u001b[39;49m\u001b[43m)\u001b[49m\u001b[43m.\u001b[49m\u001b[34;43m__init__\u001b[39;49m\u001b[43m(\u001b[49m\u001b[43mdata\u001b[49m\u001b[43m=\u001b[49m\u001b[43mdata\u001b[49m\u001b[43m,\u001b[49m\u001b[43m \u001b[49m\u001b[43murl\u001b[49m\u001b[43m=\u001b[49m\u001b[43murl\u001b[49m\u001b[43m,\u001b[49m\u001b[43m \u001b[49m\u001b[43mfilename\u001b[49m\u001b[43m=\u001b[49m\u001b[43mfilename\u001b[49m\u001b[43m)\u001b[49m\n\u001b[32m    127\u001b[39m \u001b[38;5;28;01mif\u001b[39;00m \u001b[38;5;28mself\u001b[39m.data \u001b[38;5;129;01mis\u001b[39;00m \u001b[38;5;129;01mnot\u001b[39;00m \u001b[38;5;28;01mNone\u001b[39;00m \u001b[38;5;129;01mand\u001b[39;00m \u001b[38;5;129;01mnot\u001b[39;00m \u001b[38;5;28misinstance\u001b[39m(\u001b[38;5;28mself\u001b[39m.data, \u001b[38;5;28mbytes\u001b[39m):\n\u001b[32m    128\u001b[39m     \u001b[38;5;28;01mif\u001b[39;00m rate \u001b[38;5;129;01mis\u001b[39;00m \u001b[38;5;28;01mNone\u001b[39;00m:\n",
      "\u001b[36mFile \u001b[39m\u001b[32m~/.local/lib/python3.12/site-packages/IPython/core/display.py:343\u001b[39m, in \u001b[36mDisplayObject.__init__\u001b[39m\u001b[34m(self, data, url, filename, metadata)\u001b[39m\n\u001b[32m    340\u001b[39m \u001b[38;5;28;01melif\u001b[39;00m \u001b[38;5;28mself\u001b[39m.metadata \u001b[38;5;129;01mis\u001b[39;00m \u001b[38;5;28;01mNone\u001b[39;00m:\n\u001b[32m    341\u001b[39m     \u001b[38;5;28mself\u001b[39m.metadata = {}\n\u001b[32m--> \u001b[39m\u001b[32m343\u001b[39m \u001b[38;5;28;43mself\u001b[39;49m\u001b[43m.\u001b[49m\u001b[43mreload\u001b[49m\u001b[43m(\u001b[49m\u001b[43m)\u001b[49m\n\u001b[32m    344\u001b[39m \u001b[38;5;28mself\u001b[39m._check_data()\n",
      "\u001b[36mFile \u001b[39m\u001b[32m~/.local/lib/python3.12/site-packages/IPython/lib/display.py:136\u001b[39m, in \u001b[36mAudio.reload\u001b[39m\u001b[34m(self)\u001b[39m\n\u001b[32m    134\u001b[39m \u001b[38;5;28;01mimport\u001b[39;00m\u001b[38;5;250m \u001b[39m\u001b[34;01mmimetypes\u001b[39;00m\n\u001b[32m    135\u001b[39m \u001b[38;5;28;01mif\u001b[39;00m \u001b[38;5;28mself\u001b[39m.embed:\n\u001b[32m--> \u001b[39m\u001b[32m136\u001b[39m     \u001b[38;5;28;43msuper\u001b[39;49m\u001b[43m(\u001b[49m\u001b[43mAudio\u001b[49m\u001b[43m,\u001b[49m\u001b[43m \u001b[49m\u001b[38;5;28;43mself\u001b[39;49m\u001b[43m)\u001b[49m\u001b[43m.\u001b[49m\u001b[43mreload\u001b[49m\u001b[43m(\u001b[49m\u001b[43m)\u001b[49m\n\u001b[32m    138\u001b[39m \u001b[38;5;28;01mif\u001b[39;00m \u001b[38;5;28mself\u001b[39m.filename \u001b[38;5;129;01mis\u001b[39;00m \u001b[38;5;129;01mnot\u001b[39;00m \u001b[38;5;28;01mNone\u001b[39;00m:\n\u001b[32m    139\u001b[39m     \u001b[38;5;28mself\u001b[39m.mimetype = mimetypes.guess_type(\u001b[38;5;28mself\u001b[39m.filename)[\u001b[32m0\u001b[39m]\n",
      "\u001b[36mFile \u001b[39m\u001b[32m~/.local/lib/python3.12/site-packages/IPython/core/display.py:369\u001b[39m, in \u001b[36mDisplayObject.reload\u001b[39m\u001b[34m(self)\u001b[39m\n\u001b[32m    367\u001b[39m \u001b[38;5;28;01mif\u001b[39;00m \u001b[38;5;28mself\u001b[39m.filename \u001b[38;5;129;01mis\u001b[39;00m \u001b[38;5;129;01mnot\u001b[39;00m \u001b[38;5;28;01mNone\u001b[39;00m:\n\u001b[32m    368\u001b[39m     encoding = \u001b[38;5;28;01mNone\u001b[39;00m \u001b[38;5;28;01mif\u001b[39;00m \u001b[33m\"\u001b[39m\u001b[33mb\u001b[39m\u001b[33m\"\u001b[39m \u001b[38;5;129;01min\u001b[39;00m \u001b[38;5;28mself\u001b[39m._read_flags \u001b[38;5;28;01melse\u001b[39;00m \u001b[33m\"\u001b[39m\u001b[33mutf-8\u001b[39m\u001b[33m\"\u001b[39m\n\u001b[32m--> \u001b[39m\u001b[32m369\u001b[39m     \u001b[38;5;28;01mwith\u001b[39;00m \u001b[38;5;28;43mopen\u001b[39;49m\u001b[43m(\u001b[49m\u001b[38;5;28;43mself\u001b[39;49m\u001b[43m.\u001b[49m\u001b[43mfilename\u001b[49m\u001b[43m,\u001b[49m\u001b[43m \u001b[49m\u001b[38;5;28;43mself\u001b[39;49m\u001b[43m.\u001b[49m\u001b[43m_read_flags\u001b[49m\u001b[43m,\u001b[49m\u001b[43m \u001b[49m\u001b[43mencoding\u001b[49m\u001b[43m=\u001b[49m\u001b[43mencoding\u001b[49m\u001b[43m)\u001b[49m \u001b[38;5;28;01mas\u001b[39;00m f:\n\u001b[32m    370\u001b[39m         \u001b[38;5;28mself\u001b[39m.data = f.read()\n\u001b[32m    371\u001b[39m \u001b[38;5;28;01melif\u001b[39;00m \u001b[38;5;28mself\u001b[39m.url \u001b[38;5;129;01mis\u001b[39;00m \u001b[38;5;129;01mnot\u001b[39;00m \u001b[38;5;28;01mNone\u001b[39;00m:\n\u001b[32m    372\u001b[39m     \u001b[38;5;66;03m# Deferred import\u001b[39;00m\n",
      "\u001b[31mFileNotFoundError\u001b[39m: [Errno 2] No such file or directory: 'audio02.ogg'"
     ]
    }
   ],
   "source": [
    "from IPython.display import Audio\n",
    "Audio(filename='audio02.ogg')"
   ]
  },
  {
   "cell_type": "markdown",
   "id": "e197db24",
   "metadata": {},
   "source": [
    "<h4>⁠Using the matplotlib library to look at a picture as numerical data</h4>\n",
    "\n",
    "In this exercise, we examine how images can be represented and manipulated as numerical data using Python's matplotlib and numpy libraries."
   ]
  },
  {
   "cell_type": "code",
   "execution_count": null,
   "id": "85eb0bb7",
   "metadata": {},
   "outputs": [],
   "source": [
    "import matplotlib.pyplot as pyplot\n",
    "import numpy as np"
   ]
  },
  {
   "cell_type": "code",
   "execution_count": null,
   "id": "546d8efa",
   "metadata": {},
   "outputs": [
    {
     "ename": "FileNotFoundError",
     "evalue": "[Errno 2] No such file or directory: 'picture1.jpg'",
     "output_type": "error",
     "traceback": [
      "\u001b[31m---------------------------------------------------------------------------\u001b[39m",
      "\u001b[31mFileNotFoundError\u001b[39m                         Traceback (most recent call last)",
      "\u001b[36mCell\u001b[39m\u001b[36m \u001b[39m\u001b[32mIn[1]\u001b[39m\u001b[32m, line 4\u001b[39m\n\u001b[32m      1\u001b[39m \u001b[38;5;28;01mfrom\u001b[39;00m\u001b[38;5;250m \u001b[39m\u001b[34;01mmatplotlib\u001b[39;00m\u001b[38;5;250m \u001b[39m\u001b[38;5;28;01mimport\u001b[39;00m pyplot\n\u001b[32m----> \u001b[39m\u001b[32m4\u001b[39m test_picture = \u001b[43mpyplot\u001b[49m\u001b[43m.\u001b[49m\u001b[43mimread\u001b[49m\u001b[43m(\u001b[49m\u001b[33;43m'\u001b[39;49m\u001b[33;43mpicture1.jpg\u001b[39;49m\u001b[33;43m'\u001b[39;49m\u001b[43m)\u001b[49m\n\u001b[32m      6\u001b[39m \u001b[38;5;28mprint\u001b[39m(\u001b[33m\"\u001b[39m\u001b[33mNumpy array of the image is: \u001b[39m\u001b[33m\"\u001b[39m, test_picture)\n\u001b[32m      9\u001b[39m pyplot.imshow(test_picture)\n",
      "\u001b[36mFile \u001b[39m\u001b[32m~/.local/lib/python3.12/site-packages/matplotlib/pyplot.py:2607\u001b[39m, in \u001b[36mimread\u001b[39m\u001b[34m(fname, format)\u001b[39m\n\u001b[32m   2603\u001b[39m \u001b[38;5;129m@_copy_docstring_and_deprecators\u001b[39m(matplotlib.image.imread)\n\u001b[32m   2604\u001b[39m \u001b[38;5;28;01mdef\u001b[39;00m\u001b[38;5;250m \u001b[39m\u001b[34mimread\u001b[39m(\n\u001b[32m   2605\u001b[39m         fname: \u001b[38;5;28mstr\u001b[39m | pathlib.Path | BinaryIO, \u001b[38;5;28mformat\u001b[39m: \u001b[38;5;28mstr\u001b[39m | \u001b[38;5;28;01mNone\u001b[39;00m = \u001b[38;5;28;01mNone\u001b[39;00m\n\u001b[32m   2606\u001b[39m ) -> np.ndarray:\n\u001b[32m-> \u001b[39m\u001b[32m2607\u001b[39m     \u001b[38;5;28;01mreturn\u001b[39;00m \u001b[43mmatplotlib\u001b[49m\u001b[43m.\u001b[49m\u001b[43mimage\u001b[49m\u001b[43m.\u001b[49m\u001b[43mimread\u001b[49m\u001b[43m(\u001b[49m\u001b[43mfname\u001b[49m\u001b[43m,\u001b[49m\u001b[43m \u001b[49m\u001b[38;5;28;43mformat\u001b[39;49m\u001b[43m)\u001b[49m\n",
      "\u001b[36mFile \u001b[39m\u001b[32m~/.local/lib/python3.12/site-packages/matplotlib/image.py:1512\u001b[39m, in \u001b[36mimread\u001b[39m\u001b[34m(fname, format)\u001b[39m\n\u001b[32m   1505\u001b[39m \u001b[38;5;28;01mif\u001b[39;00m \u001b[38;5;28misinstance\u001b[39m(fname, \u001b[38;5;28mstr\u001b[39m) \u001b[38;5;129;01mand\u001b[39;00m \u001b[38;5;28mlen\u001b[39m(parse.urlparse(fname).scheme) > \u001b[32m1\u001b[39m:\n\u001b[32m   1506\u001b[39m     \u001b[38;5;66;03m# Pillow doesn't handle URLs directly.\u001b[39;00m\n\u001b[32m   1507\u001b[39m     \u001b[38;5;28;01mraise\u001b[39;00m \u001b[38;5;167;01mValueError\u001b[39;00m(\n\u001b[32m   1508\u001b[39m         \u001b[33m\"\u001b[39m\u001b[33mPlease open the URL for reading and pass the \u001b[39m\u001b[33m\"\u001b[39m\n\u001b[32m   1509\u001b[39m         \u001b[33m\"\u001b[39m\u001b[33mresult to Pillow, e.g. with \u001b[39m\u001b[33m\"\u001b[39m\n\u001b[32m   1510\u001b[39m         \u001b[33m\"\u001b[39m\u001b[33m``np.array(PIL.Image.open(urllib.request.urlopen(url)))``.\u001b[39m\u001b[33m\"\u001b[39m\n\u001b[32m   1511\u001b[39m         )\n\u001b[32m-> \u001b[39m\u001b[32m1512\u001b[39m \u001b[38;5;28;01mwith\u001b[39;00m \u001b[43mimg_open\u001b[49m\u001b[43m(\u001b[49m\u001b[43mfname\u001b[49m\u001b[43m)\u001b[49m \u001b[38;5;28;01mas\u001b[39;00m image:\n\u001b[32m   1513\u001b[39m     \u001b[38;5;28;01mreturn\u001b[39;00m (_pil_png_to_float_array(image)\n\u001b[32m   1514\u001b[39m             \u001b[38;5;28;01mif\u001b[39;00m \u001b[38;5;28misinstance\u001b[39m(image, PIL.PngImagePlugin.PngImageFile) \u001b[38;5;28;01melse\u001b[39;00m\n\u001b[32m   1515\u001b[39m             pil_to_array(image))\n",
      "\u001b[36mFile \u001b[39m\u001b[32m~/.local/lib/python3.12/site-packages/PIL/Image.py:3465\u001b[39m, in \u001b[36mopen\u001b[39m\u001b[34m(fp, mode, formats)\u001b[39m\n\u001b[32m   3462\u001b[39m     filename = os.fspath(fp)\n\u001b[32m   3464\u001b[39m \u001b[38;5;28;01mif\u001b[39;00m filename:\n\u001b[32m-> \u001b[39m\u001b[32m3465\u001b[39m     fp = \u001b[43mbuiltins\u001b[49m\u001b[43m.\u001b[49m\u001b[43mopen\u001b[49m\u001b[43m(\u001b[49m\u001b[43mfilename\u001b[49m\u001b[43m,\u001b[49m\u001b[43m \u001b[49m\u001b[33;43m\"\u001b[39;49m\u001b[33;43mrb\u001b[39;49m\u001b[33;43m\"\u001b[39;49m\u001b[43m)\u001b[49m\n\u001b[32m   3466\u001b[39m     exclusive_fp = \u001b[38;5;28;01mTrue\u001b[39;00m\n\u001b[32m   3467\u001b[39m \u001b[38;5;28;01melse\u001b[39;00m:\n",
      "\u001b[31mFileNotFoundError\u001b[39m: [Errno 2] No such file or directory: 'picture1.jpg'"
     ]
    }
   ],
   "source": [
    "from matplotlib import pyplot\n",
    "\n",
    "\n",
    "test_picture = pyplot.imread('picture1.jpg')\n",
    "\n",
    "print(\"Numpy array of the image is: \", test_picture)\n",
    "\n",
    "\n",
    "pyplot.imshow(test_picture)\n",
    "pyplot.axis('off')  \n",
    "pyplot.title(\"Original Image\") \n",
    "pyplot.show()"
   ]
  },
  {
   "cell_type": "markdown",
   "id": "d482cce3",
   "metadata": {},
   "source": [
    "Reflection:\n",
    "While running the code, an error occurred. After reviewing the script, it appears that the issue is related to the filenames being used. However, both filenames seem to be correctly written and formatted, which makes it difficult to pinpoint the exact cause of the error. Despite careful checking, the source of the problem remains unclear at this stage."
   ]
  },
  {
   "cell_type": "markdown",
   "id": "909e271d",
   "metadata": {},
   "source": [
    "<H4>Understanding Images as Numerical Data</H4>\n",
    "\n",
    "Images are composed of pixels, each represented by a set of numerical values—typically RGB (Red, Green, Blue) values, and sometimes an alpha channel for transparency. When an image is loaded into a NumPy array:\n",
    "\n",
    "Each row corresponds to the image's height (Y-axis)\n",
    "Each column corresponds to the image's width (X-axis)\n",
    "Each depth layer represents color channels (R, G, B, and optionally Alpha)\n",
    "Using the print() function, we can inspect this underlying array structure and see how the image data is stored numerically."
   ]
  },
  {
   "cell_type": "code",
   "execution_count": null,
   "id": "42b496db",
   "metadata": {},
   "outputs": [
    {
     "ename": "NameError",
     "evalue": "name 'test_picture' is not defined",
     "output_type": "error",
     "traceback": [
      "\u001b[31m---------------------------------------------------------------------------\u001b[39m",
      "\u001b[31mNameError\u001b[39m                                 Traceback (most recent call last)",
      "\u001b[36mCell\u001b[39m\u001b[36m \u001b[39m\u001b[32mIn[5]\u001b[39m\u001b[32m, line 1\u001b[39m\n\u001b[32m----> \u001b[39m\u001b[32m1\u001b[39m test_picture_filtered = \u001b[32m2\u001b[39m * \u001b[43mtest_picture\u001b[49m / \u001b[32m3\u001b[39m\n\u001b[32m      4\u001b[39m pyplot.imshow(test_picture_filtered)\n\u001b[32m      5\u001b[39m pyplot.axis(\u001b[33m'\u001b[39m\u001b[33mon\u001b[39m\u001b[33m'\u001b[39m)\n",
      "\u001b[31mNameError\u001b[39m: name 'test_picture' is not defined"
     ]
    }
   ],
   "source": [
    "test_picture_filtered = 2 * test_picture / 3\n",
    "\n",
    "\n",
    "pyplot.imshow(test_picture_filtered)\n",
    "pyplot.axis('on')\n",
    "pyplot.title(\"Filtered Image (Brightness Reduced)\")\n",
    "pyplot.show()"
   ]
  },
  {
   "cell_type": "markdown",
   "id": "e0cb6e2c",
   "metadata": {},
   "source": [
    "After applying the filter using the formula test_picture_filtered = 2 * test_picture / 3, the resulting image looks noticeably lighter and more abstract. The hedgehog from the original image is no longer clearly visible. Instead, we see a collection of colorful dots and outlines where the image’s features used to be.\n",
    "\n",
    "This transformation occurred because we modified the pixel values that control brightness and color. By scaling these values, we reduced the intensity of darker tones, which in turn weakened the overall contrast. As a result, fine details in the image became less distinct.\n",
    "\n",
    "This exercise highlighted an important concept: images are just arrays of numbers, and even simple mathematical operations on those numbers can significantly alter how an image appears."
   ]
  },
  {
   "cell_type": "markdown",
   "id": "75aebbc2",
   "metadata": {},
   "source": [
    " <h4>Exploring Scikit-Learn Datasets with Pandas</h4>\n",
    "\n",
    "In this section, we dive into using the Scikit-Learn (sklearn) and Pandas libraries to load, explore, and manipulate datasets. The focus is on understanding how to access built-in datasets, examine their structure, and convert them into a more readable, tabular format using Pandas.\n",
    "\n",
    "Guided by Microsoft Copilot prompts, we approach this from a beginner’s perspective—step-by-step—documenting our learning process and key takeaways along the way."
   ]
  },
  {
   "cell_type": "markdown",
   "id": "483c6514",
   "metadata": {},
   "source": [
    " working with datasets using Python and the scikit-learn library"
   ]
  },
  {
   "cell_type": "code",
   "execution_count": 52,
   "id": "2e69a54f",
   "metadata": {},
   "outputs": [
    {
     "name": "stdout",
     "output_type": "stream",
     "text": [
      "dict_keys(['data', 'target', 'frame', 'target_names', 'DESCR', 'feature_names', 'filename', 'data_module'])\n"
     ]
    }
   ],
   "source": [
    "from sklearn.datasets import load_iris\n",
    "\n",
    "# Load the Iris dataset\n",
    "iris = load_iris()\n",
    "\n",
    "# Print the dataset keys\n",
    "print(iris.keys())\n"
   ]
  },
  {
   "cell_type": "code",
   "execution_count": 53,
   "id": "0f5e43a3",
   "metadata": {},
   "outputs": [
    {
     "name": "stdout",
     "output_type": "stream",
     "text": [
      "Features:\n",
      " [[5.1 3.5 1.4 0.2]\n",
      " [4.9 3.  1.4 0.2]\n",
      " [4.7 3.2 1.3 0.2]\n",
      " [4.6 3.1 1.5 0.2]\n",
      " [5.  3.6 1.4 0.2]]\n",
      "Labels:\n",
      " [0 0 0 0 0]\n"
     ]
    }
   ],
   "source": [
    "# Features (input variables)\n",
    "features = iris.data\n",
    "print(\"Features:\\n\", features[:5])  # Display the first 5 rows\n",
    "\n",
    "# Labels (target variables)\n",
    "labels = iris.target\n",
    "print(\"Labels:\\n\", labels[:5])  # Display the first 5 labels\n"
   ]
  },
  {
   "cell_type": "code",
   "execution_count": 54,
   "id": "9d0c41a9",
   "metadata": {},
   "outputs": [
    {
     "name": "stdout",
     "output_type": "stream",
     "text": [
      "Mean:\n",
      " [5.84333333 3.05733333 3.758      1.19933333]\n",
      "Standard Deviation:\n",
      " [0.82530129 0.43441097 1.75940407 0.75969263]\n"
     ]
    }
   ],
   "source": [
    "import numpy as np\n",
    "\n",
    "# Calculate basic statistics\n",
    "mean = np.mean(features, axis=0)\n",
    "std_dev = np.std(features, axis=0)\n",
    "print(\"Mean:\\n\", mean)\n",
    "print(\"Standard Deviation:\\n\", std_dev)\n"
   ]
  },
  {
   "cell_type": "code",
   "execution_count": 55,
   "id": "9cc66d5f",
   "metadata": {},
   "outputs": [
    {
     "data": {
      "image/png": "[encoded data removed]",
      "text/plain": [
       "<Figure size 640x480 with 1 Axes>"
      ]
     },
     "metadata": {},
     "output_type": "display_data"
    }
   ],
   "source": [
    "import matplotlib.pyplot as plt\n",
    "\n",
    "# Scatter plot of the first two features\n",
    "plt.scatter(features[:, 0], features[:, 1], c=labels, cmap='viridis')\n",
    "plt.xlabel('Feature 1')\n",
    "plt.ylabel('Feature 2')\n",
    "plt.title('Scatter Plot of Iris Dataset')\n",
    "plt.show()\n"
   ]
  },
  {
   "cell_type": "markdown",
   "id": "56e13b6b",
   "metadata": {},
   "source": [
    "when Skikit-learn datasets meets panda"
   ]
  },
  {
   "cell_type": "code",
   "execution_count": 56,
   "id": "ce0e12c2",
   "metadata": {},
   "outputs": [
    {
     "name": "stdout",
     "output_type": "stream",
     "text": [
      "   sepal length (cm)  sepal width (cm)  petal length (cm)  petal width (cm)  \\\n",
      "0                5.1               3.5                1.4               0.2   \n",
      "1                4.9               3.0                1.4               0.2   \n",
      "2                4.7               3.2                1.3               0.2   \n",
      "3                4.6               3.1                1.5               0.2   \n",
      "4                5.0               3.6                1.4               0.2   \n",
      "\n",
      "   target  \n",
      "0       0  \n",
      "1       0  \n",
      "2       0  \n",
      "3       0  \n",
      "4       0  \n"
     ]
    }
   ],
   "source": [
    "import pandas as pd\n",
    "from sklearn.datasets import load_iris\n",
    "# Load the iris dataset from scikit-learn\n",
    "iris = load_iris()\n",
    "# Create a pandas DataFrame from the dataset\n",
    "df = pd.DataFrame(data=iris.data,\n",
    "columns=iris.feature_names)\n",
    "# Add the target variable to the DataFrame\n",
    "df['target'] = iris.target\n",
    "# Display the first few rows of the DataFrame\n",
    "print(df.head())"
   ]
  },
  {
   "cell_type": "markdown",
   "id": "6fbc8a94",
   "metadata": {},
   "source": [
    "<h4>Summary of Learning outcomes:</h4>"
   ]
  },
  {
   "cell_type": "markdown",
   "id": "f55b7d4c",
   "metadata": {},
   "source": [
    "In this notebook, I explored a variety of foundational Python programming concepts using prompts and support from Microsoft Copilot. Each section allowed me to build confidence in key areas of programming while developing a stronger understanding of how different Python components work together. Here are the main takeaways from my learning experience:\n",
    "\n",
    " Variables:\n",
    "I learned how to assign values to variables and understood their role in storing and reusing data. Variables improve the readability and flexibility of code, making programs more organized and adaptable to change.\n",
    "\n",
    " Functions:\n",
    "Functions helped me understand the importance of modular programming. By encapsulating code into reusable blocks, functions support clean code architecture and make testing and debugging much easier.\n",
    "\n",
    " Loops:\n",
    "Through for loops and other loop types, I practiced automating repetitive tasks. This significantly reduces redundancy and increases the efficiency of a program, especially when working with data collections.\n",
    "\n",
    " Lists:\n",
    "Lists were introduced as versatile containers for storing multiple items. I learned how to create, access, and iterate through lists, and appreciated their ability to hold various data types.\n",
    "\n",
    " Dictionaries:\n",
    "Dictionaries provided a way to store data in key-value pairs. I explored how they are useful for accessing data quickly using meaningful identifiers rather than numerical indexes.\n",
    "\n",
    " Arrays:\n",
    "Although similar to lists, arrays are designed for storing data of the same type more efficiently. I used arrays with the numpy library and observed how they streamline mathematical operations.\n",
    "\n",
    " Importing Libraries:\n",
    "I learned how importing external libraries can extend Python’s capabilities. This includes built-in libraries like math, and external ones like numpy and matplotlib, which are essential for data analysis and visualization.\n",
    "\n",
    " Conditional Statements:\n",
    "Conditional logic using if, elif, and else taught me how to control the flow of a program based on specific conditions. This is crucial for making decisions within code.\n",
    "\n",
    " Operators:\n",
    "I practiced using arithmetic, comparison, and logical operators. These tools are the backbone of calculations, condition-checking, and data manipulation within a program.\n",
    "\n",
    " Object-Oriented Programming (Classes and Objects):\n",
    "I was introduced to object-oriented concepts such as classes, objects, and methods. This approach is ideal for building complex applications that mirror real-world structures and behaviors.\n",
    "\n",
    " Basic Syntax:\n",
    "I developed a strong grasp of Python’s syntax, including the importance of proper indentation, naming conventions, and structure. This foundational knowledge is essential for writing clean and error-free code.\n",
    "\n",
    " Python Best Practices:\n",
    "I explored important coding principles such as simplicity, readability, reusability, and inclusivity. Adhering to best practices ensures that code is not only functional but also maintainable and accessible.\n",
    "\n",
    " Experience Learning with Copilot:\n",
    "Working with Microsoft Copilot was an engaging and insightful experience. Copilot provided real-time support and suggestions that helped guide me through each coding challenge. The tool offered clear, example-driven responses that simplified difficult concepts and provided useful code snippets for experimentation.\n",
    "\n",
    "One of the standout benefits was how Copilot encouraged a hands-on, exploratory learning approach. Rather than simply reading theory, I was able to try things out immediately and get feedback quickly. This active engagement helped solidify my understanding of various Python topics.\n",
    "\n",
    "That said, there were moments when Copilot’s explanations lacked depth or context, especially with more nuanced or abstract topics. In those cases, I found myself doing additional research or seeking clarification through other sources, which actually deepened my learning process.\n",
    "\n",
    " Final Thoughts:\n",
    "Copilot served as a supportive companion in my Python learning journey. It made the experience more interactive, accessible, and enjoyable. While it wasn’t a complete replacement for traditional study or peer support, it significantly accelerated my ability to grasp core programming concepts and apply them effectively.\n",
    "\n",
    "Overall, I found this approach to learning both effective and rewarding, and I would recommend it to anyone starting out in programming or looking to strengthen their understanding of Python."
   ]
  }
 ],
 "metadata": {
  "kernelspec": {
   "display_name": "Python 3",
   "language": "python",
   "name": "python3"
  },
  "language_info": {
   "codemirror_mode": {
    "name": "ipython",
    "version": 3
   },
   "file_extension": ".py",
   "mimetype": "text/x-python",
   "name": "python",
   "nbconvert_exporter": "python",
   "pygments_lexer": "ipython3",
   "version": "3.12.1"
  }
 },
 "nbformat": 4,
 "nbformat_minor": 5
}

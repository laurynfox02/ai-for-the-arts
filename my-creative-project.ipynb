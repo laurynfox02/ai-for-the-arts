{
 "cells": [
  {
   "cell_type": "markdown",
   "id": "67fdfdde",
   "metadata": {},
   "source": [
    "<h2> Project title: Mythos Machine </h2>"
   ]
  },
  {
   "cell_type": "markdown",
   "id": "b967ff6a",
   "metadata": {},
   "source": [
    "<h4>Project overview:</h4>\n",
    "\n",
    "Mythos Machine is a proposed digital platform that allows users to co-create interactive mythological stories with help from large language models (LLM). The system combines AI-generated narratives with user decisions to build branching tales rooted in global folklore, legends, and cultural traditions. This creative storytelling tool is designed to preserve and reimagine ancient myths while offering a deeply personalised and educational experience. Users can explore a blend of traditional narrative structures and generative creativity - where they are both the reader and the co-author., where they are both the reader and the co-author."
   ]
  },
  {
   "cell_type": "markdown",
   "id": "1ec84749",
   "metadata": {},
   "source": [
    "<h4>Objectives and value:</h4>\n",
    "\n",
    "The aim of *Mythos Machine* is to:\n",
    "- **Promote cultural literacy**\n",
    "- **Support creative learning**\n",
    "- **Foster engagement**\n",
    "- **Champion inclusion**\n",
    "- **Encourage reflective thinking**"
   ]
  },
  {
   "cell_type": "markdown",
   "id": "cd5a2bbe",
   "metadata": {},
   "source": [
    "<h4> Interaction design:</h4>\n",
    "\n",
    "Key role and flow\n",
    "1. **User input:** choose a mythological region and protagonist archetype.\n",
    "2. **LLM output (narrator mode):** generates an opening myth-style story.\n",
    "3. **Decision points:** user choices shape the branching storyline.\n",
    "4. **Cultural context mode (optional):** ask for explanations of mythological references.\n",
    "5. **Creative remix mode (optional):** changing genre/style/language mid-story.\n"
   ]
  },
  {
   "cell_type": "markdown",
   "id": "47fd8721",
   "metadata": {},
   "source": [
    "<h4>Example use case:</h4>\n",
    "\n",
    "- Select \"Polynesian mythology\" + \"seafaring explorer\"\n",
    "- Encounter storm conjured by ocean god\n",
    "- User chants—god calms storm, reveals hidden island\n",
    "- Explore background via Cultural Context Mode\n",
    "- Receive a fully narrated, savable myth-based story"
   ]
  },
  {
   "cell_type": "markdown",
   "id": "e8a1cf1f",
   "metadata": {},
   "source": [
    "<h4>Learning, Engagement, Inclusion:</h4>\n",
    "\n",
    "Learning: Explore culture, language, storytelling\n",
    "\n",
    "Engagement: Personalized, interactive narrative design\n",
    "\n",
    "Inclusion: Underrepresented global mythologies brought to light\n"
   ]
  },
  {
   "cell_type": "markdown",
   "id": "3694fcac",
   "metadata": {},
   "source": [
    "<h4> Reflection: </h4>\n",
    "\n",
    "- Revitalizes traditional stories\n",
    "\n",
    "- Useful in classrooms and libraries\n",
    "\n",
    "- Builds respect for diverse cultures"
   ]
  },
  {
   "cell_type": "markdown",
   "id": "837e5785",
   "metadata": {},
   "source": [
    "\n",
    "<h4> Concerns: </h4>\n",
    "\n",
    "- Needs cultural consultation\n",
    "\n",
    "- Risk of blending traditions inaccurately\n",
    "\n",
    "- Demands responsible prompt design and training"
   ]
  }
 ],
 "metadata": {
  "language_info": {
   "name": "python"
  }
 },
 "nbformat": 4,
 "nbformat_minor": 5
}
